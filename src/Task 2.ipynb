{
 "cells": [
  {
   "cell_type": "code",
   "execution_count": 1,
   "metadata": {
    "collapsed": false,
    "deletable": true,
    "editable": true
   },
   "outputs": [
    {
     "name": "stdout",
     "output_type": "stream",
     "text": [
      "Starting Spark application\n"
     ]
    },
    {
     "data": {
      "text/html": [
       "<table>\n",
       "<tr><th>ID</th><th>YARN Application ID</th><th>Kind</th><th>State</th><th>Spark UI</th><th>Driver log</th><th>Current session?</th></tr><tr><td>1113</td><td>application_1511276242554_0449</td><td>pyspark</td><td>idle</td><td><a target=\"_blank\" href=\"http://hadoop30:8088/proxy/application_1511276242554_0449/\">Link</a></td><td><a target=\"_blank\" href=\"http://hadoop13:8042/node/containerlogs/container_e25_1511276242554_0449_01_000001/lab2_mnist_fashion__johanmi0\">Link</a></td><td>✔</td></tr></table>"
      ],
      "text/plain": [
       "<IPython.core.display.HTML object>"
      ]
     },
     "metadata": {},
     "output_type": "display_data"
    },
    {
     "name": "stdout",
     "output_type": "stream",
     "text": [
      "SparkSession available as 'spark'.\n"
     ]
    }
   ],
   "source": [
    "def task2():\n",
    "    import tensorflow as tf\n",
    "    from hops import tensorboard\n",
    "    from hops import hdfs\n",
    "    \n",
    "    from tensorflow.examples.tutorials.mnist import input_data\n",
    "    \n",
    "#     fashion_mnist = input_data.read_data_sets('input/fashion', one_hot=True)\n",
    "    fashion_mnist = input_data.read_data_sets('data/fashion', source_url='http://fashion-mnist.s3-website.eu-central-1.amazonaws.com/')\n",
    "    \n",
    "    # Helpers\n",
    "    def weight_var(shape):\n",
    "        initial = tf.truncated_normal(shape, stddev=0.1)\n",
    "        return tf.Variable(initial)\n",
    "\n",
    "    def bias_var(shape, value=0):\n",
    "        initial = tf.constant(value, shape=shape)\n",
    "        return tf.Variable(initial)\n",
    "    \n",
    "    def bias_var_z(shape):\n",
    "        return tf.Variable(tf.zeros(shape))\n",
    "    \n",
    "    def layer(tensor, in_dim, out_dim, name, activation=tf.nn.sigmoid):\n",
    "        weights = weight_var([in_dim, out_dim])\n",
    "        biases = bias_var_z([out_dim])\n",
    "        pre = tf.matmul(tensor, weights) + biases\n",
    "        post = activation(pre)\n",
    "        tf.summary.histogram('activations', post)\n",
    "        return post\n",
    "    \n",
    "    # Hardcoded params\n",
    "    num_ch = 1\n",
    "    num_classes = 10\n",
    "    image_height = image_width = 28\n",
    "    layer_widths = [200, 100, 60, 30, 10]\n",
    "    \n",
    "    # 1. Define variables and placeholders\n",
    "    X = tf.placeholder(tf.float32, shape=[None, image_height, image_width, num_ch])\n",
    "    with tf.name_scope('input_reshape'):\n",
    "        image_shaped_input = tf.reshape(X, [-1, 28, 28, 1])\n",
    "        tf.summary.image('input', image_shaped_input, 10)\n",
    "\n",
    "    \n",
    "    Y_ = tf.placeholder(tf.float32, shape=[None, 10])\n",
    "    XX = tf.reshape(X, [-1, image_height * image_width])\n",
    "    \n",
    "    HSig1 = layer(XX, 784, layer_widths[0], 'sigmoid-1', tf.nn.sigmoid)\n",
    "    HSig2 = layer(HSig1, layer_widths[0], layer_widths[1], 'sigmoid-2', tf.nn.sigmoid)\n",
    "    HSig3 = layer(HSig2, layer_widths[1], layer_widths[2], 'sigmoid-3', tf.nn.sigmoid)\n",
    "    HSig4 = layer(HSig3, layer_widths[2], layer_widths[3], 'sigmoid-4', tf.nn.sigmoid)\n",
    "    \n",
    "    Y = layer(HSig4, layer_widths[3], layer_widths[4], 'logits', tf.identity)\n",
    "\n",
    "    cross_entropy_mean = tf.reduce_mean(tf.nn.softmax_cross_entropy_with_logits(logits=Y, labels=Y_))\n",
    "    tf.summary.scalar('cross_entropy', cross_entropy_mean)\n",
    "        \n",
    "    with tf.name_scope('accuracy'):\n",
    "        with tf.name_scope('correct_prediction'):\n",
    "            correct_prediction = tf.equal(tf.argmax(Y,1), tf.argmax(Y_,1))\n",
    "        with tf.name_scope('accuracy'):\n",
    "            accuracy = tf.reduce_mean(tf.cast(correct_prediction, tf.float32))\n",
    "    tf.summary.scalar('accuracy', accuracy)\n",
    "    \n",
    "    with tf.name_scope('train'):\n",
    "        with tf.name_scope('gradient_descent'):\n",
    "            train_step_gd = tf.train.GradientDescentOptimizer(0.5).minimize(cross_entropy_mean)\n",
    "        with tf.name_scope('adam_optimizer'):\n",
    "            train_step_adam = tf.train.AdamOptimizer(0.005).minimize(cross_entropy_mean)\n",
    "\n",
    "    \n",
    "    # Define accuracy\n",
    "    with tf.name_scope('accuracy'):\n",
    "        with tf.name_scope('correct_prediction'):\n",
    "            correct_prediction =  tf.equal(tf.argmax(Y, 1), tf.argmax(Y_, 1))\n",
    "        with tf.name_scope('accuracy'):\n",
    "            accuracy = tf.reduce_mean(tf.cast(correct_prediction, tf.float32))\n",
    "    tf.summary.scalar('accuracy', accuracy)\n",
    "\n",
    "    sess = tf.Session()\n",
    "    logdir = tensorboard.logdir()\n",
    "    merged = tf.summary.merge_all()\n",
    "    train_writer = tf.summary.FileWriter(logdir+ '/train', sess.graph)\n",
    "    test_writer = tf.summary.FileWriter(logdir + '/test')\n",
    "    \n",
    "    \n",
    "#     init =  tf.global_variables_initializer()\n",
    "    \n",
    "    \n",
    "    def epochs(train, test, train_step, num_epochs=100, batch_size=100):\n",
    "#         sess.run(init)\n",
    "        sess.run(tf.global_variables_initializer())\n",
    "        accuracies = []\n",
    "        losses = []\n",
    "        for epoch in range(num_epochs):\n",
    "            \n",
    "            for it in range(100):\n",
    "                batch_xs, batch_ys = train.next_batch(batch_size)\n",
    "                feed_dict =  {XX: batch_xs, Y_: batch_ys}\n",
    "                sess.run(train_step, feed_dict=feed_dict)\n",
    "\n",
    "            # Compute accuracy and loss every 100 rounds\n",
    "            feed_dict = {XX: test.images, Y_: test.labels}\n",
    "            \"\"\"\n",
    "                 summary, acc = sess.run([merged, accuracy], feed_dict=feed_dict(False))\n",
    "                test_writer.add_summary(summary, i)\n",
    "            \"\"\"\n",
    "            summary, acc = sess.run([merged, accuracy], feed_dict=feed_dict)\n",
    "            test_writer.add_summary(summary, epoch)\n",
    "            loss = sess.run(cross_entropy_mean, feed_dict=feed_dict)\n",
    "            \n",
    "            accuracies.append(acc)\n",
    "            losses.append(loss)\n",
    "        return (accuracies, losses)\n",
    "\n",
    "\n",
    "#     acc, loss = epochs(fashion_mnist.train, fashion_mnist.test, train_step_gd)\n",
    "    \n",
    "#     print(\"Loss: {}\".format(loss))\n",
    "#     print(\"Accuracy: {}\".format(acc))\n",
    "    train_writer.close()\n",
    "    test_writer.close()\n",
    "    \n",
    "\n"
   ]
  },
  {
   "cell_type": "code",
   "execution_count": null,
   "metadata": {
    "collapsed": false,
    "deletable": true,
    "editable": true
   },
   "outputs": [],
   "source": [
    "from hops import tflauncher\n",
    "from hops import util\n",
    "\n",
    "# Use this module to get the TensorBoard logdir\n",
    "from hops import tensorboard\n",
    "tensorboard_logdir = tensorboard.logdir()\n",
    "\n",
    "print(\"Logdir here XXX: ${}\".format(tensorboard_logdir))\n",
    "\n",
    "tb_hdfs_dir = tflauncher.launch(spark, task2)\n",
    "\n",
    "tensorboard.visualize(spark, tb_hdfs_dir)"
   ]
  }
 ],
 "metadata": {
  "kernelspec": {
   "display_name": "PySpark",
   "language": "",
   "name": "pysparkkernel"
  },
  "language_info": {
   "codemirror_mode": {
    "name": "python",
    "version": 2
   },
   "mimetype": "text/x-python",
   "name": "pyspark",
   "pygments_lexer": "python2"
  }
 },
 "nbformat": 4,
 "nbformat_minor": 2
}
