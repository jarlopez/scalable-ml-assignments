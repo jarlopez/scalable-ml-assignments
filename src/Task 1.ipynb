{
 "cells": [
  {
   "cell_type": "code",
   "execution_count": 1,
   "metadata": {
    "collapsed": false,
    "deletable": true,
    "editable": true
   },
   "outputs": [
    {
     "name": "stdout",
     "output_type": "stream",
     "text": [
      "Starting Spark application\n"
     ]
    },
    {
     "data": {
      "text/html": [
       "<table>\n",
       "<tr><th>ID</th><th>YARN Application ID</th><th>Kind</th><th>State</th><th>Spark UI</th><th>Driver log</th><th>Current session?</th></tr><tr><td>1095</td><td>application_1511276242554_0429</td><td>pyspark</td><td>idle</td><td><a target=\"_blank\" href=\"http://hadoop30:8088/proxy/application_1511276242554_0429/\">Link</a></td><td><a target=\"_blank\" href=\"http://hadoop6:8042/node/containerlogs/container_e25_1511276242554_0429_01_000001/lab2_mnist_fashion__johanmi0\">Link</a></td><td>✔</td></tr></table>"
      ],
      "text/plain": [
       "<IPython.core.display.HTML object>"
      ]
     },
     "metadata": {},
     "output_type": "display_data"
    },
    {
     "name": "stdout",
     "output_type": "stream",
     "text": [
      "SparkSession available as 'spark'.\n"
     ]
    }
   ],
   "source": [
    "def task1():\n",
    "    import tensorflow as tf\n",
    "    from hops import tensorboard\n",
    "    from hops import hdfs\n",
    "    \n",
    "    from tensorflow.examples.tutorials.mnist import input_data\n",
    "    \n",
    "    fashion_mnist = input_data.read_data_sets('input/data', one_hot=True)\n",
    "    \n",
    "    # Hardcoded params\n",
    "    num_ch = 1\n",
    "    num_classes = 10\n",
    "    image_height = image_width = 28\n",
    "    \n",
    "    # 1. Define variables and placeholders\n",
    "    X = tf.placeholder(tf.float32, shape=[None, image_height, image_width, num_ch])\n",
    "    Y_ = tf.placeholder(tf.float32, shape=[None, 10])\n",
    "    \n",
    "    W = tf.Variable(tf.zeros([image_height * image_width, num_classes]))\n",
    "    b = tf.Variable(tf.zeros([num_classes]))\n",
    "    \n",
    "    # Flatten images into a single vector\n",
    "    XX = tf.reshape(X, [-1, image_height * image_width])\n",
    "    \n",
    "    # 2. Define the model Y = softmax(XX*W + b)\n",
    "    # Docs state that cross entropy fn below does NOT take an already-softmaxed input\n",
    "    # Y = tf.nn.softmax(tf.matmul(XX, W) + b )\n",
    "    Y = tf.matmul(XX, W) + b\n",
    "    \n",
    "    # 3a. Define the loss function (neg. log loss) and 3b.compute its mean over the trained batches\n",
    "    #cross_entropy_mean = tf.reduce_mean(-tf.reduce_sum(Y_ * tf.log(Y), reduction_indices=[1]))\n",
    "    cross_entropy_mean = tf.reduce_mean(tf.nn.softmax_cross_entropy_with_logits(logits=Y, labels=Y_))\n",
    "    \n",
    "    # 4. Accuracy definition\n",
    "    correct_prediction = tf.equal(tf.argmax(Y,1), tf.argmax(Y_,1))\n",
    "    accuracy = tf.reduce_mean(tf.cast(correct_prediction, tf.float32))\n",
    "    \n",
    "    # Define optimizers used\n",
    "    with tf.name_scope('train'):\n",
    "        with tf.name_scope('gradient_descent'):\n",
    "            train_step_gd = tf.train.GradientDescentOptimizer(0.5).minimize(cross_entropy_mean)\n",
    "        with tf.name_scope('adam_optimizer'):\n",
    "            train_step_adam = tf.train.AdamOptimizer(0.005).minimize(cross_entropy_mean)\n",
    "\n",
    "    \n",
    "    # Define accuracy\n",
    "    with tf.name_scope('accuracy'):\n",
    "        with tf.name_scope('correct_prediction'):\n",
    "            correct_prediction =  tf.equal(tf.argmax(Y, 1), tf.argmax(Y_, 1))\n",
    "        with tf.name_scope('accuracy'):\n",
    "            accuracy = tf.reduce_mean(tf.cast(correct_prediction, tf.float32))\n",
    "    tf.summary.scalar('accuracy', accuracy)\n",
    "\n",
    "    init =  tf.global_variables_initializer()\n",
    "    sess = tf.Session()    \n",
    "    \n",
    "    def epochs(train, test, train_step, num_epochs=100, batch_size=100):\n",
    "\n",
    "        sess.run(init)\n",
    "        \n",
    "        accuracies = []\n",
    "        losses = []\n",
    "        for epoch in range(num_epochs):\n",
    "            \n",
    "            for it in range(100):\n",
    "                batch_xs, batch_ys = train.next_batch(batch_size)\n",
    "                feed_dict =  {XX: batch_xs, Y_: batch_ys}\n",
    "                sess.run(train_step, feed_dict)\n",
    "\n",
    "            # Compute accuracy and loss every 100 rounds\n",
    "            feed_dict = {XX: test.images, Y_: test.labels}\n",
    "            acc = sess.run(accuracy, feed_dict)\n",
    "            loss = sess.run(cross_entropy_mean, feed_dict)\n",
    "            \n",
    "            accuracies.append(acc)\n",
    "            losses.append(loss)\n",
    "        return (accuracies, losses)\n",
    "\n",
    "\n",
    "    acc, loss = epochs(fashion_mnist.train, fashion_mnist.test, train_step_adam)\n",
    "    \n",
    "    print(\"Loss: {}\".format(loss))\n",
    "    print(\"Accuracy: {}\".format(acc))\n",
    "    \n",
    "    # Merge all the summaries and write them out to /tmp/mnist_logs (by default)\n",
    "    logdir = tensorboard.logdir()\n",
    "    merged = tf.summary.merge_all()\n",
    "    train_writer = tf.summary.FileWriter(logdir + '/train',\n",
    "                                          sess.graph)\n",
    "    test_writer = tf.summary.FileWriter(logdir + '/test')\n",
    "    \n",
    "    train_writer.close()\n",
    "    test_writer.close()\n"
   ]
  },
  {
   "cell_type": "code",
   "execution_count": 2,
   "metadata": {
    "collapsed": false,
    "deletable": true,
    "editable": true
   },
   "outputs": [
    {
     "name": "stdout",
     "output_type": "stream",
     "text": [
      "Finished TensorFlow job \n",
      "\n",
      "Make sure to check /Logs/TensorFlow/application_1511276242554_0429/runId.0 for logfile and TensorBoard logdir"
     ]
    }
   ],
   "source": [
    "from hops import tflauncher\n",
    "from hops import util\n",
    "\n",
    "# Use this module to get the TensorBoard logdir\n",
    "from hops import tensorboard\n",
    "tensorboard_logdir = tensorboard.logdir()\n",
    "\n",
    "tb_hdfs_dir = tflauncher.launch(spark, task1)\n",
    "#tensorboard.visualize(spark, tb_hdfs_dir)\n"
   ]
  }
 ],
 "metadata": {
  "kernelspec": {
   "display_name": "PySpark",
   "language": "",
   "name": "pysparkkernel"
  },
  "language_info": {
   "codemirror_mode": {
    "name": "python",
    "version": 2
   },
   "mimetype": "text/x-python",
   "name": "pyspark",
   "pygments_lexer": "python2"
  }
 },
 "nbformat": 4,
 "nbformat_minor": 2
}
